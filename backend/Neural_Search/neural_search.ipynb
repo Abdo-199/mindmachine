{
  "cells": [
    {
      "cell_type": "markdown",
      "metadata": {
        "id": "vACF2uH63CCS"
      },
      "source": [
        "# Import liberaries"
      ]
    },
    {
      "cell_type": "code",
      "execution_count": 1,
      "metadata": {
        "colab": {
          "base_uri": "https://localhost:8080/"
        },
        "id": "RKibfCa82cmP",
        "outputId": "98652d50-39f2-47d4-9424-ede1a2749595"
      },
      "outputs": [
        {
          "name": "stderr",
          "output_type": "stream",
          "text": [
            "/usr/local/lib/python3.10/dist-packages/_distutils_hack/__init__.py:33: UserWarning: Setuptools is replacing distutils.\n",
            "  warnings.warn(\"Setuptools is replacing distutils.\")\n"
          ]
        }
      ],
      "source": [
        "import pip\n",
        "\n",
        "def import_or_install(package):\n",
        "    try:\n",
        "        __import__(package)\n",
        "    except ImportError:\n",
        "        pip.main(['install', package])"
      ]
    },
    {
      "cell_type": "code",
      "execution_count": 2,
      "metadata": {
        "id": "AvoxG1_B2-dq"
      },
      "outputs": [],
      "source": [
        "import_or_install(\"qdrant_client\")\n",
        "import_or_install(\"PyPDF2\")\n",
        "import_or_install(\"sentence_transformers\")"
      ]
    },
    {
      "cell_type": "code",
      "execution_count": 9,
      "metadata": {
        "colab": {
          "base_uri": "https://localhost:8080/"
        },
        "id": "-WTu3amrxInC",
        "outputId": "754025de-4d4c-4093-aea0-3d3df726e690"
      },
      "outputs": [
        {
          "name": "stdout",
          "output_type": "stream",
          "text": [
            "Mounted at /content/drive\n"
          ]
        }
      ],
      "source": [
        "from google.colab import drive\n",
        "drive.mount('/content/drive')"
      ]
    },
    {
      "cell_type": "markdown",
      "metadata": {
        "id": "NHl_qO3h3Ayh"
      },
      "source": [
        "# Import Modules"
      ]
    },
    {
      "cell_type": "code",
      "execution_count": 37,
      "metadata": {
        "id": "T5wbyUDU3K_R"
      },
      "outputs": [],
      "source": [
        "%reload_ext autoreload\n",
        "%autoreload 2\n",
        "from Helper_Modules.PdfReader import pdf_to_docVec\n",
        "from Helper_Modules.Qdrant import Qdrant"
      ]
    },
    {
      "cell_type": "markdown",
      "metadata": {
        "id": "m-71WXNG1loc"
      },
      "source": [
        "# Encoding documents and paragraphs"
      ]
    },
    {
      "cell_type": "code",
      "execution_count": 15,
      "metadata": {
        "id": "UQT07NFUxch7"
      },
      "outputs": [],
      "source": [
        "from sentence_transformers import SentenceTransformer\n",
        "encoder = SentenceTransformer(\"all-MiniLM-L6-v2\")"
      ]
    },
    {
      "cell_type": "code",
      "execution_count": 38,
      "metadata": {
        "id": "OcznPEcz3LFx"
      },
      "outputs": [],
      "source": [
        "documents = [pdf_to_docVec('/content/drive/MyDrive/Memory_machine/Forschung.pdf', encoder),\n",
        "             pdf_to_docVec('/content/drive/MyDrive/Memory_machine/Pflichtpraktikum.pdf', encoder),\n",
        "             pdf_to_docVec('/content/drive/MyDrive/Memory_machine/ZulassungVorrausetzung_master.pdf', encoder)]"
      ]
    },
    {
      "cell_type": "markdown",
      "metadata": {
        "id": "NhKIz4z12D7y"
      },
      "source": [
        "# Creating a qdrant client"
      ]
    },
    {
      "cell_type": "code",
      "execution_count": 42,
      "metadata": {
        "id": "Qz26cE0ayhzU"
      },
      "outputs": [],
      "source": [
        "client = Qdrant(url=\"\",\n",
        "    api_key=\"\", encoder=encoder)"
      ]
    },
    {
      "cell_type": "markdown",
      "metadata": {
        "id": "jKUYucRd2lr9"
      },
      "source": [
        "# Adding vectors\n",
        "- A collection for the user name will be automatically created, if it doesn't exist.\n",
        "\n",
        "- Otherwise the vectors will be added to the existing collection"
      ]
    },
    {
      "cell_type": "code",
      "execution_count": 43,
      "metadata": {
        "colab": {
          "base_uri": "https://localhost:8080/"
        },
        "id": "GZQEaaWzyrBw",
        "outputId": "310bcfcc-7507-4e02-fa34-383ef0008616"
      },
      "outputs": [
        {
          "name": "stdout",
          "output_type": "stream",
          "text": [
            "user doesn't exist, creating a new collection with the user name: testUser\n",
            "Die Forschung an deutschen Universitäten nimmt eine herausragende Stellung in der \n",
            "internationalen Wissenschaftslandschaft ein. Deutschland ist bekannt für seine exzellente \n",
            "Forschung und seine zahlreichen renommierten Universitäten, die eine breite Palette von \n",
            "Disziplinen abdecken. Hier sind einige wichtige Aspekte der Forschung an deutschen \n",
            "Universitäten : \n",
            " \n",
            "Forschungslandschaft : \n",
            "Deutschland verfügt über eine vielfältige Forschungslandschaft mit einer beeindruckenden \n",
            "Bandbreite an Forschungsbereichen und Disziplinen. Dies umfasst Naturwissenschaften, \n",
            "Ingenieurwissenschaften, Geistes - und Sozialwissenschaften, Medizin und viele weit ere \n",
            "Fachgebiete \n",
            " \n",
            "Forschungsförderung : \n",
            "Die deutsche Regierung und verschiedene Organisationen investieren erhebliche Mittel in die \n",
            "Forschung. Das Bundesministerium für Bildung und Forschung (BMBF) sowie die Deutsche \n",
            "Forschungsgemeinschaft (DFG) spielen eine zentrale Rolle bei der Bereitstellung  von \n",
            "Finanzmitteln für die Forschung \n",
            " \n",
            "Universitäre Forschungseinrichtungen : \n",
            "Viele deutsche Universitäten verfügen über eigene Forschungseinrichtungen und -zentren, die \n",
            "sich auf bestimmte Fachgebiete oder interdisziplinäre Themen spezialisiert haben. Diese \n",
            "Einrichtungen fördern die Zusammenarbeit und den wissenschaftlichen Austausc h\n",
            " \n",
            "Exzellenzuniversitäten : \n",
            "Deutschland hat eine Reihe von sogenannten Exzellenzuniversitäten, die für ihre \n",
            "herausragende Forschung und Lehre international anerkannt sind. Diese Universitäten erhalten \n",
            "zusätzliche finanzielle Unterstützung, um ihre Spitzenposition weiter zu stärken \n",
            " \n",
            "Interdisziplinäre Forschung : \n",
            "Deutsche Universitäten fördern die interdisziplinäre Forschung und Zusammenarbeit über \n",
            "Fachgrenzen hinweg. Dies trägt dazu bei, komplexe gesellschaftliche Herausforderungen \n",
            "anzugehen, die eine breite Expertise erfordern \n",
            " \n",
            "Internationale Zusammenarbeit : \n",
            "Deutsche Universitäten sind aktiv in internationale Forschungskooperationen eingebunden\n",
            "Dies ermöglicht den Wissenschaftlern den Zugang zu einem globalen Netzwerk von \n",
            "Forschungspartnern und Ressourcen \n",
            " \n",
            "Promotion und Doktoranden : \n",
            "Die Promotion spielt in der deutschen Forschungslandschaft eine wichtige Rolle. Viele \n",
            "Universitäten bieten Promotionsprogramme und eine enge Betreuung für Doktoranden. Dies \n",
            "fördert die Ausbildung zukünftiger Wissenschaftler und den wissenschaftlichen Nachw uchs \n",
            " \n",
            "Wissenschaftliche Veröffentlichungen : \n",
            "Deutsche Forscher veröffentlichen regelmäßig Artikel in hochrangigen wissenschaftlichen \n",
            "Zeitschriften und tragen so zur weltweiten Verbreitung von Wissen bei. Die Qualität und das \n",
            "Ansehen deutscher Forschung sind international anerkannt \n",
            " \n",
            "Forschungsfelder : \n",
            "Deutschland ist in vielen Bereichen führend, darunter Maschinenbau, Chemie, Informatik, \n",
            "Medizin und erneuerbare Energien. Die Forschung in diesen Feldern trägt nicht nur zur \n",
            "wissenschaftlichen Erkenntnis bei, sondern hat auch erhebliche wirtschaftliche Aus wirkungen .  \n",
            "Technologietransfer : \n",
            "Universitäten in Deutschland spielen eine wichtige Rolle im Technologietransfer. Sie \n",
            "kooperieren mit Unternehmen und unterstützen die Umsetzung von Forschungsergebnissen in \n",
            "marktfähige Produkte und Dienstleistungen \n",
            " \n",
            "Zusammenfassend lässt sich sagen, dass die Forschung an deutschen Universitäten eine \n",
            "zentrale Säule des deutschen Bildungssystems und der globalen Wissenschaftsgemeinschaft \n",
            "ist. Die hervorragende Infrastruktur, die finanzielle Unterstützung und die interdi sziplinäre \n",
            "Ausrichtung tragen dazu bei, dass Deutschland ein attraktives Ziel für Forscher aus aller Welt \n",
            "ist. Die Forschung an deutschen Universitäten hat nicht nur einen positiven Einfluss auf die \n",
            "wissenschaftliche Gemeinschaft, sondern auch auf die Gese llschaft und die Wirtschaft . \n",
            "user: testUser exists, and has 12 vectors\n",
            "Das Pflichtpraktikum, auch bekannt als Pflichtpraxissemester oder Praxissemester, ist ein \n",
            "integraler Bestandteil vieler Studiengänge an deutschen Universitäten. Es ist eine Gelegenheit \n",
            "für Studierende, theoretisches Wissen in der Praxis anzuwenden, Berufse rfahrung zu sammeln \n",
            "und Einblicke in potenzielle Karrierewege zu gewinnen. In Deutschland legen viele \n",
            "Studiengänge großen Wert auf die Verknüpfung von Theorie und Praxis, weshalb \n",
            "Pflichtpraktika weit verbreitet sind. Hier sind einige wichtige Aspekte des P flichtpraktikums an \n",
            "deutschen Universitäten : \n",
            "1. Pflichtpraktikum im Curriculum: Pflichtpraktika sind in den Studienplänen vieler deutscher \n",
            "Universitäten und Hochschulen fest verankert. Sie sind in verschiedenen Studiengängen wie \n",
            "Ingenieurwissenschaften, Wirtschaft, Sozialwissenschaften, Medizin und v ielen anderen zu \n",
            "finden. Die Dauer und die genauen Anforderungen variieren je nach Studiengang und \n",
            "Hochschule \n",
            "2. Praxisbezug: Das Hauptziel des Pflichtpraktikums besteht darin, den Studierenden die \n",
            "Möglichkeit zu geben, das in ihrem Studium erworbene Wissen in der realen Arbeitswelt \n",
            "anzuwenden. Dies fördert den Praxisbezug und erleichtert den Übergang von der Univ ersität in \n",
            "das Berufsleben \n",
            "3. Vermittlung von Schlüsselqualifikationen: Pflichtpraktika tragen dazu bei, wichtige \n",
            "berufliche Fähigkeiten und Schlüsselqualifikationen zu entwickeln. Dazu gehören \n",
            "Kommunikation, Teamarbeit, Problemlösung und die Fähigkeit, eigenverantwortlich zu \n",
            "arbeit en\n",
            "4. Pflichtpraktikumsstellen: Die Studierenden sind in der Regel selbst dafür verantwortlich, \n",
            "eine geeignete Praktikumsstelle zu finden. Die Hochschulen unterstützen die Studierenden \n",
            "jedoch oft bei der Suche, indem sie Stellenangebote bereitstellen und Bera tungsdienste \n",
            "anbieten \n",
            "5. Vergütung: In Deutschland sind Pflichtpraktika in der Regel unbezahlt, insbesondere in den \n",
            "Geisteswissenschaften und den Sozialwissenschaften. In den Ingenieur - und \n",
            "Naturwissenschaften sowie in der Informatik können Studierende jedoch oft mit einer \n",
            "Verg ütung rechnen \n",
            "6. Anerkennung und Leistungsnachweis: Das Pflichtpraktikum ist in der Regel in das \n",
            "Curriculum des Studiengangs integriert und wird benotet. Studierende müssen Berichte über \n",
            "ihre Praktikumserfahrungen verfassen und diese von ihren Praktikumsbetreuern bewert en \n",
            "lassen. Die Note fließt in die Gesamtnote des Studiums ein \n",
            "7. Praktikumsbetreuung: Während des Pflichtpraktikums wird den Studierenden oft ein \n",
            "Betreuer an der Hochschule oder der Fakultät zugewiesen, der die Qualität des Praktikums \n",
            "überwacht und als Ansprechpartner für Fragen und Probleme dient \n",
            "8. Integration in das Studium: Das Praxissemester ist häufig in das Studium integriert, sodass \n",
            "die Studierenden nach Abschluss des Praktikums ihre gewonnenen Erkenntnisse und \n",
            "Fähigkeiten in ihren weiteren Studienverlauf einbringen können \n",
            "9. Berufliche Orientierung: Ein weiterer wichtiger Aspekt des Pflichtpraktikums ist die \n",
            "Möglichkeit, frühzeitig berufliche Interessen und Präferenzen zu erkunden. Viele Studierende \n",
            "nutzen ihr Praktikum, um herauszufinden, ob der gewählte Studiengang tatsäc hlich zu ihren \n",
            "beruflichen Zielen passt \n",
            "10. Karrierechancen: Ein erfolgreich absolviertes Pflichtpraktikum kann den Einstieg in den \n",
            "Arbeitsmarkt erleichtern. Arbeitgeber schätzen Studierende, die praktische Erfahrungen \n",
            "vorweisen können, und sehen Praktika oft als wichtigen Qualifikationsnachweis  an\n",
            "Zusammenfassend kann gesagt werden, dass das Pflichtpraktikum an deutschen \n",
            "Universitäten eine wertvolle Erfahrung für Studierende darstellt. Es fördert die Verbindung \n",
            "zwischen Theorie und Praxis, ermöglicht die Entwicklung beruflicher Fähigkeiten und trägt  zur \n",
            "beruflichen Orientierung bei. Trotz der oft unbezahlten Natur des Praktikums sehen die \n",
            "meisten Studierenden es als eine wichtige Etappe auf ihrem Weg zur beruflichen Entwicklung \n",
            "und zur Vorbereitung auf das Berufsleben \n",
            " \n",
            "user: testUser exists, and has 25 vectors\n",
            "Nr. 01/23 Amtliches Mitteilungsblatt der HTW Berlin Seite 1 \n",
            " \n",
            "  10. März 2023 \n",
            "Amtliches Mitteilungsblatt \n",
            " \n",
            "Seite\n",
            "Zugangs- und Zulassungsordnung für den konsekutiven \n",
            "Masterstudiengang Informatik in Ingenieurwissenschaften \n",
            "im Fachbereich Ingenieurwissenschaften – Technik und  \n",
            "Leben  vom 13. Oktober 2021 . . . . . . . . . . . . . . . . . . . . . . . . .    3  \n",
            " \n",
            " \n",
            " \n",
            "Seite 2 Amtliches Mitteilungsblatt der HTW Berlin Nr. 01/23  \n",
            "  \n",
            " \n",
            " \n",
            " \n",
            " \n",
            " \n",
            " \n",
            " \n",
            " \n",
            " \n",
            " \n",
            " \n",
            " \n",
            " \n",
            " \n",
            " \n",
            " \n",
            " \n",
            " \n",
            " \n",
            " \n",
            " \n",
            " \n",
            " \n",
            " \n",
            " \n",
            " \n",
            " \n",
            " \n",
            " \n",
            " \n",
            "  \n",
            " \n",
            " \n",
            " \n",
            " \n",
            " \n",
            " \n",
            " \n",
            "Herausgeberin \n",
            "Die Hochschulleitung der HTW Berlin \n",
            "Treskowallee 8 \n",
            "10318 Berlin \n",
            " \n",
            "Redaktion \n",
            "Justiziariat \n",
            "Tel. +49 30 5019-2813 \n",
            "Fax +49 30 5019-2815 Nr. 01/23 Amtliches Mitteilungsblatt der HTW Berlin Seite 3 \n",
            " \n",
            "Hochschule für Technik und Wirtschaft Berlin \n",
            " \n",
            "Zugangs- und Zulassungsordnung \n",
            "für den konsekutiven Masterstudiengang \n",
            " \n",
            "Informatik in Ingenieurwissenschaften (IIW) \n",
            " \n",
            "im Fachbereich Ingenieurwissenschaften – Technik und Leben \n",
            "vom 13. Oktober 2021  \n",
            " \n",
            "Aufgrund von § 15 des Gesetzes über die Zulassung zu den Hochschulen des Landes Berlin in zulas-\n",
            "sungsbeschränkten Studiengängen (Berliner Hochschulzulassungsgesetz – BerlHZG) in der Fassung \n",
            "vom 9. Oktober 2019 (GVBl. S. 695), zuletzt geändert durch Gesetz vom 14. September 2021 (GVBl. S\n",
            "1039), und von § 17 Abs. 1 Nr. 1 Neufassung der Satzung der Hochschule für Technik und Wirtschaft \n",
            "Berlin zu Abweichungen von Bestimmungen des Berliner Hochschulgesetzes (AMBl. HTW Berlin \n",
            "Nr. 29/09) in Verbindung mit § 10 Abs. 5 Satz 1 des Gesetzes über die Hochschulen im Land Berlin \n",
            "(Berliner Hochschulgesetz - BerlHG) in der Fassung der Bekanntmachung vom 26. Juli 2011 (GVBl. S\n",
            "378), zuletzt geändert durch Gesetz vom 14. September 2021 (GVBl. S. 1039), hat der Fachbereichsrat \n",
            "des Fachbereiches Ingenieurwissenschaften – Technik und Leben der HTW Berlin am 13. Okto-\n",
            "ber 2021 die folgende Zugangs- und Zulassungsordnung für den konsekutiven Masterstudiengang \n",
            "Informatik in Ingenieurwissenschaften beschlossen1,2:  \n",
            " \n",
            "Gliederung der Ordnung \n",
            "§ 1 Geltungsbereich ................................................................................................................................ ............ 4  \n",
            "§ 2 Geltung der Auswahlordnung für konsekutive Masterstudiengänge ................................ ............... 4  \n",
            "§ 3 Geltung der Studien- und Prüfungsordnung für den konsekutiven Masterstudiengang \n",
            "Informatik in Ingenieurwissenschaften ................................................................................................ .. 4 \n",
            "§ 4 Zugangsvoraussetzungen ................................................................................................ ........................... 4  \n",
            "§ 5 Frist und Form der Bewerbung ................................................................................................ .................. 4  \n",
            "§ 6 Auswahlverfahren ................................................................................................................................ ........ 5  \n",
            "§ 7 Bewertung der berufspraktischen Erfahrungen ................................................................ .................... 5  \n",
            "§ 8 Bewertung der Studienfächer ................................................................................................ .................... 5  \n",
            "§ 9 Inkrafttreten/Veröffentlichung ................................................................................................ ................. 6  \n",
            " \n",
            "1 Bestätigt durch die Hochschulleitung der Hochschule für Technik und Wirtschaft Berlin am 15. Dezember 2021\n",
            "2 Bestätigt durch die Senatsverwaltung für Wissenschaft, Gesundheit, Pflege und Gleichstellung am 2. Dezem-\n",
            "ber 2022. Seite 4 Amtliches Mitteilungsblatt der HTW Berlin Nr. 01/23  \n",
            "  \n",
            "§ 1 Geltungsbereich \n",
            "Die Vorschriften dieser Ordnung legen die Kriterien und das Verfahren für die Vergabe von Studien-\n",
            "plätzen an Studienbewerber*innen für den konsekutiven Masterstudiengang Informatik in Ingenieur-\n",
            "wissenschaften fest, die ab dem Wintersemester 2023/24 an der HTW Berlin im 1. Fachsemester im-\n",
            "matrikuliert werden\n",
            " \n",
            " \n",
            "§ 2 Geltung der Auswahlordnung für konsekutive Masterstudiengänge \n",
            "Die Auswahlordnung für konsekutive Masterstudiengänge der HTW Berlin (Auswahlordnung für  \n",
            "Masterstudiengänge – AO-Ma) in ihrer jeweils gültigen Fassung ist Bestandteil dieser Ordnung\n",
            " \n",
            " \n",
            "§ 3 Geltung der Studien- und Prüfungsordnung für den konsekutiven Masterstudiengang Informatik in \n",
            "Ingenieurwissenschaften \n",
            "Die Zugangs- und Zulassungsordnung für den konsekutiven Masterstudiengang Informatik in  \n",
            "Ingenieurwissenschaften wird ergänzt durch die Studien- und Prüfungsordnung für den konsekuti-\n",
            "ven Masterstudiengang Informatik in Ingenieurwissenschaften in der jeweils gültigen Fassung\n",
            " \n",
            " \n",
            "§ 4 Zugangsvoraussetzungen \n",
            "(1) Der Masterstudiengang Informatik in Ingenieurwissenschaften ist konsekutiv zu den Bachelorstu-\n",
            "diengängen Ingenieurinformatik, Umweltinformatik, Maschinenbau und Fahrzeugtechnik.  \n",
            "(2) Im Übrigen gilt für den Studienzugang § 3 Abs. 1 AO-Ma. Über die Vergleichbarkeit entscheidet \n",
            "die Auswahlkommission\n",
            " \n",
            " \n",
            "§ 5 Frist und Form der Bewerbung \n",
            "(1) Frist und Form der Bewerbung regelt die Auswahlordnung für konsekutive Masterstudiengänge \n",
            "der HTW Berlin (AO-Ma) in ihrer jeweils gültigen Fassung\n",
            "(2) Für die Studienzulassung gemäß §§ 7 und 8 sind folgende Nachweise erforderlich: \n",
            "- Nachweis von einschlägigen berufspraktischen Erfahrungen nach dem ersten akademischen \n",
            "Abschluss mit Bezug zu den Programminhalten des konsekutiven Masterstudienganges In-\n",
            "formatik in Ingenieurwissenschaften und \n",
            "- Bewerbungsschreiben mit Angaben über Studienmotive und –ziele (ca. eine DIN A4-Seite). Nr. 01/23 Amtliches Mitteilungsblatt der HTW Berlin Seite 5 \n",
            " \n",
            " \n",
            "§ 6 Auswahlverfahren \n",
            "Für das Auswahlverfahren gilt § 6 Abs. 1 insbesondere Satz 1 Buchstaben a) und b) und c) in Verbin-\n",
            "dung mit Satz 2 Buchstabe b) AO-Ma\n",
            " \n",
            " \n",
            "§ 7 Bewertung der berufspraktischen Erfahrungen \n",
            "(1) Die Dauer und Spezifikation der berufspraktischen Erfahrungen mit Bezug zu den Programminhal-\n",
            "ten des konsekutiven Masterstudienganges Informatik in Ingenieurwissenschaften nach dem ersten \n",
            "akademischen Abschluss gemäß § 6 Abs. 1 Satz 1 Buchst. b) AO-Ma wird nach folgendem Schema be-\n",
            "wertet: \n",
            "Dauer und Spezifikation der berufspraktischen Erfahrung Faktor X 2 \n",
            "Mindestens 2-jährige, einschlägige berufliche Tätigkeit* 1,0 \n",
            "Mindestens 1-jährige, einschlägige berufliche Tätigkeit* 1,6 \n",
            "Mindestens 1/2-jährige, einschlägige berufliche Tätigkeit* 2,6 \n",
            " *) nach dem ersten akademischen Abschluss \n",
            "Die Bewertung der Dauer und Spezifikation der berufspraktischen Erfahrungen erfolgt durch die Aus-\n",
            "wahlkommission\n",
            "(2) Erfüllt ein oder eine Bewerber*in mehrere der angegebenen Kriterien, so wird dasjenige mit der \n",
            "besten Note berücksichtigt. Wird gar kein Kriterium erfüllt, so erfolgt eine Bewertung mit der Note 4,0 \n",
            "im Zulassungsverfahren\n",
            " \n",
            " \n",
            "§ 8 Bewertung der Studienfächer \n",
            "Die Bewertung der Studienfächer (im Sinne von Studiengängen), die über die fachspezifische Motiva-\n",
            "tion und Eignung Auskunft gemäß § 6 Abs. 1 Satz 1 Buchst. c) AO-Ma geben, wird nach folgendem \n",
            "Schema vorgenommen: \n",
            " Seite 6 Amtliches Mitteilungsblatt der HTW Berlin Nr. 01/23  \n",
            " Studienfächer (im Sinne von Studiengängen) Faktor X 3 \n",
            "a) Ingenieurinformatik, Maschinenbau, Fahrzeugtechnik, Umweltinformatik, \n",
            "Bauingenieurwesen, Life Science Engineering, Facility Management, \n",
            "Gebäudeenergie- und Informationstechnik, Gesundheitselektronik, \n",
            "Elektrotechnik, Elektromobilität, Robotik, Mechatronik, Informationstechnik im \n",
            "Maschinenwesen,  \n",
            "sowie inhaltlich vergleichbare Studiengänge 1,0 \n",
            "b) Angewandte Informatik, Wirtschaftsinformatik, Wirtschaftsingenieurwesen, \n",
            "Regenerative Energien, Mikrosystemtechnik, Technische Informatik, Computer \n",
            "Engineering, Ingenieurwissenschaften  \n",
            "sowie inhaltlich vergleichbare Studiengänge 1,6 \n",
            "c) Informations- und Kommunikationstechnik, Kommunikationstechnik, \n",
            "Nachrichtentechnik, Informatik und Wirtschaft, Medieninformatik sowie inhaltlich \n",
            "vergleichbare Studiengänge 2,6 \n",
            "d) inhaltlich vergleichbare ingenieurwissenschaftliche Studiengänge oder \n",
            "Informatikstudiengänge 3,6 \n",
            "Die Bewertung Studienfächer (im Sinne von Studiengängen) erfolgt durch die Auswahlkommission\n",
            " \n",
            " \n",
            "§ 9 Inkrafttreten/Veröffentlichung \n",
            "Diese Ordnung tritt am Tage nach ihrer Veröffentlichung im Amtlichen Mitteilungsblatt der HTW Berlin \n",
            "in Kraft\n",
            " \n",
            " \n",
            " \n"
          ]
        }
      ],
      "source": [
        "userName = \"testUser\"\n",
        "\n",
        "for document in documents:\n",
        "  client.add_docVec(userName, document)"
      ]
    },
    {
      "cell_type": "markdown",
      "metadata": {
        "id": "IyZzmIgS3Z7C"
      },
      "source": [
        "# search"
      ]
    },
    {
      "cell_type": "code",
      "execution_count": 45,
      "metadata": {
        "colab": {
          "base_uri": "https://localhost:8080/"
        },
        "id": "A-XDE8cX3eH8",
        "outputId": "022f4f12-2baa-4e97-c943-12b5d55f41bb"
      },
      "outputs": [
        {
          "name": "stdout",
          "output_type": "stream",
          "text": [
            "{'isDoc': True, 'name': 'Forschung.pdf'} score: 0.33223948\n",
            "The Vector with the highst score: Forschung.pdf\n",
            "{'isDoc': False, 'name': ' \\nForschungsförderung : \\nDie deutsche Regierung und verschiedene Organisationen investieren erhebliche Mittel in die \\nForschung. Das Bundesministerium für Bildung und Forschung (BMBF) sowie die Deutsche \\nForschungsgemeinschaft (DFG) spielen eine zentrale Rolle bei der Bereitstellung  von \\nFinanzmitteln für die Forschung ', 'source_doc': 'Forschung.pdf'} score: 0.5662128\n",
            "{'isDoc': False, 'name': 'Dies ermöglicht den Wissenschaftlern den Zugang zu einem globalen Netzwerk von \\nForschungspartnern und Ressourcen ', 'source_doc': 'Forschung.pdf'} score: 0.39979255\n",
            "{'isDoc': False, 'name': ' \\nForschungsfelder : \\nDeutschland ist in vielen Bereichen führend, darunter Maschinenbau, Chemie, Informatik, \\nMedizin und erneuerbare Energien. Die Forschung in diesen Feldern trägt nicht nur zur \\nwissenschaftlichen Erkenntnis bei, sondern hat auch erhebliche wirtschaftliche Aus wirkungen .  \\nTechnologietransfer : \\nUniversitäten in Deutschland spielen eine wichtige Rolle im Technologietransfer. Sie \\nkooperieren mit Unternehmen und unterstützen die Umsetzung von Forschungsergebnissen in \\nmarktfähige Produkte und Dienstleistungen ', 'source_doc': 'Forschung.pdf'} score: 0.3833814\n",
            "{'isDoc': False, 'name': ' \\nZusammenfassend lässt sich sagen, dass die Forschung an deutschen Universitäten eine \\nzentrale Säule des deutschen Bildungssystems und der globalen Wissenschaftsgemeinschaft \\nist. Die hervorragende Infrastruktur, die finanzielle Unterstützung und die interdi sziplinäre \\nAusrichtung tragen dazu bei, dass Deutschland ein attraktives Ziel für Forscher aus aller Welt \\nist. Die Forschung an deutschen Universitäten hat nicht nur einen positiven Einfluss auf die \\nwissenschaftliche Gemeinschaft, sondern auch auf die Gese llschaft und die Wirtschaft . ', 'source_doc': 'Forschung.pdf'} score: 0.36068144\n",
            "{'isDoc': False, 'name': 'Die Forschung an deutschen Universitäten nimmt eine herausragende Stellung in der \\ninternationalen Wissenschaftslandschaft ein. Deutschland ist bekannt für seine exzellente \\nForschung und seine zahlreichen renommierten Universitäten, die eine breite Palette von \\nDisziplinen abdecken. Hier sind einige wichtige Aspekte der Forschung an deutschen \\nUniversitäten : \\n \\nForschungslandschaft : \\nDeutschland verfügt über eine vielfältige Forschungslandschaft mit einer beeindruckenden \\nBandbreite an Forschungsbereichen und Disziplinen. Dies umfasst Naturwissenschaften, \\nIngenieurwissenschaften, Geistes - und Sozialwissenschaften, Medizin und viele weit ere \\nFachgebiete ', 'source_doc': 'Forschung.pdf'} score: 0.33060688\n",
            "{'isDoc': False, 'name': ' \\nWissenschaftliche Veröffentlichungen : \\nDeutsche Forscher veröffentlichen regelmäßig Artikel in hochrangigen wissenschaftlichen \\nZeitschriften und tragen so zur weltweiten Verbreitung von Wissen bei. Die Qualität und das \\nAnsehen deutscher Forschung sind international anerkannt ', 'source_doc': 'Forschung.pdf'} score: 0.3116681\n",
            "{'isDoc': False, 'name': ' \\nPromotion und Doktoranden : \\nDie Promotion spielt in der deutschen Forschungslandschaft eine wichtige Rolle. Viele \\nUniversitäten bieten Promotionsprogramme und eine enge Betreuung für Doktoranden. Dies \\nfördert die Ausbildung zukünftiger Wissenschaftler und den wissenschaftlichen Nachw uchs ', 'source_doc': 'Forschung.pdf'} score: 0.27831832\n",
            "{'isDoc': False, 'name': ' \\nInternationale Zusammenarbeit : \\nDeutsche Universitäten sind aktiv in internationale Forschungskooperationen eingebunden', 'source_doc': 'Forschung.pdf'} score: 0.26371524\n",
            "The Vector with the highst score:  \n",
            "Forschungsförderung : \n",
            "Die deutsche Regierung und verschiedene Organisationen investieren erhebliche Mittel in die \n",
            "Forschung. Das Bundesministerium für Bildung und Forschung (BMBF) sowie die Deutsche \n",
            "Forschungsgemeinschaft (DFG) spielen eine zentrale Rolle bei der Bereitstellung  von \n",
            "Finanzmitteln für die Forschung \n"
          ]
        }
      ],
      "source": [
        "client.search(\"test\",\"Invest in der Forschung\")"
      ]
    }
  ],
  "metadata": {
    "colab": {
      "provenance": []
    },
    "kernelspec": {
      "display_name": "Python 3",
      "name": "python3"
    },
    "language_info": {
      "name": "python"
    }
  },
  "nbformat": 4,
  "nbformat_minor": 0
}
